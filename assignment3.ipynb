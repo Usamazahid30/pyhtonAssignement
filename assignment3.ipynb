{
 "cells": [
  {
   "cell_type": "code",
   "execution_count": 5,
   "metadata": {},
   "outputs": [
    {
     "name": "stdout",
     "output_type": "stream",
     "text": [
      "397\n"
     ]
    }
   ],
   "source": [
    "my_dict = {'1':11,'2':43,'3':343}\n",
    "print(sum(my_dict.values()))"
   ]
  },
  {
   "cell_type": "code",
   "execution_count": 8,
   "metadata": {},
   "outputs": [
    {
     "name": "stdout",
     "output_type": "stream",
     "text": [
      "[10, 20, 30, 40, 50]\n"
     ]
    }
   ],
   "source": [
    "def unique_list(list):\n",
    "    uniq_list = []\n",
    "    uniq_set = set()\n",
    "    for item in list:\n",
    "        if item not in uniq_set:\n",
    "            uniq_list.append(item)\n",
    "            uniq_set.add(item)\n",
    "    return uniq_list\n",
    " \n",
    "list = [10,20,30,10,10,30,40,50]\n",
    "print(unique_list(list))"
   ]
  },
  {
   "cell_type": "code",
   "execution_count": 6,
   "metadata": {},
   "outputs": [
    {
     "name": "stdout",
     "output_type": "stream",
     "text": [
      "{0: 20, 3: 20}\n",
      "{0: 20, 3: 20, 1: 30}\n"
     ]
    }
   ],
   "source": [
    "\n",
    "d = {0:20, 3:20}\n",
    "print(d)\n",
    "d.update({1:30})\n",
    "print(d)\n"
   ]
  },
  {
   "cell_type": "code",
   "execution_count": 7,
   "metadata": {},
   "outputs": [
    {
     "name": "stdout",
     "output_type": "stream",
     "text": [
      "Enter a first value 20\n",
      "Enter a Second value 20\n",
      "Enter any operator +\n",
      "answer 40\n"
     ]
    }
   ],
   "source": [
    "val1=input(\"Enter a first value \")\n",
    "val2=input(\"Enter a Second value \")\n",
    "operator=input('Enter any operator ')\n",
    "val1=int(val1)\n",
    "val2=int(val2)\n",
    "if operator == '+':\n",
    "    val=val1+val2\n",
    "    print(\"answer\",val1+val2)\n",
    "elif operator == '-':\n",
    "    val=val1-val2\n",
    "    print(\"answer\",val1-val2)\n",
    "elif operator == '*':\n",
    "    val=val1*val2\n",
    "    print(\"answer\",val1*val2)\n",
    "elif operator == '/':\n",
    "    val=val1/val2\n",
    "    print(\"answer\",val1/val2)\n",
    "else:\n",
    "    print(\"Enter correct operator\")"
   ]
  },
  {
   "cell_type": "code",
   "execution_count": null,
   "metadata": {},
   "outputs": [],
   "source": []
  },
  {
   "cell_type": "code",
   "execution_count": 21,
   "metadata": {},
   "outputs": [
    {
     "name": "stdout",
     "output_type": "stream",
     "text": [
      "{'z': 1, 'l': 2, 'c': 7, 'm': 5, 'f': 4, 'g': 9}\n",
      "True\n"
     ]
    }
   ],
   "source": [
    "x = {'z': 1, 'l': 2, 'c': 7, 'm': 5, 'f': 4, 'g': 9}\n",
    " \n",
    "print(x)\n",
    " \n",
    "if 'z' in x.keys():\n",
    "    print(\"True\")\n",
    "else:\n",
    "    print(\"False\")"
   ]
  },
  {
   "cell_type": "code",
   "execution_count": null,
   "metadata": {},
   "outputs": [],
   "source": []
  }
 ],
 "metadata": {
  "kernelspec": {
   "display_name": "Python 3",
   "language": "python",
   "name": "python3"
  },
  "language_info": {
   "codemirror_mode": {
    "name": "ipython",
    "version": 3
   },
   "file_extension": ".py",
   "mimetype": "text/x-python",
   "name": "python",
   "nbconvert_exporter": "python",
   "pygments_lexer": "ipython3",
   "version": "3.7.4"
  }
 },
 "nbformat": 4,
 "nbformat_minor": 2
}
