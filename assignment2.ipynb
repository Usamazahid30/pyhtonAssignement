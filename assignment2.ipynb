{
 "cells": [
  {
   "cell_type": "code",
   "execution_count": 1,
   "metadata": {},
   "outputs": [
    {
     "name": "stdout",
     "output_type": "stream",
     "text": [
      "Enter marks of the first subject: 78\n",
      "Enter marks of the second subject: 78\n",
      "Enter marks of the third subject: 78\n",
      "Enter marks of the fourth subject: 78\n",
      "Enter marks of the fifth subject: 78\n",
      "Grade: C\n"
     ]
    }
   ],
   "source": [
    "#Q1\n",
    "one=int(input(\"Enter marks of the first subject: \"))\n",
    "two=int(input(\"Enter marks of the second subject: \"))\n",
    "three=int(input(\"Enter marks of the third subject: \"))\n",
    "four=int(input(\"Enter marks of the fourth subject: \"))\n",
    "five=int(input(\"Enter marks of the fifth subject: \"))\n",
    "avg=(one+two+three+four+five)/5\n",
    "if(avg>=90):\n",
    "    print(\"Grade: A\")\n",
    "elif(avg>=80 and avg<90):\n",
    "    print(\"Grade: B\")\n",
    "elif(avg>=70 and avg<80):\n",
    "    print(\"Grade: C\")\n",
    "elif(avg>=60 and avg<70):\n",
    "    print(\"Grade: D\")\n",
    "else:\n",
    "    print(\"Grade: F\")"
   ]
  },
  {
   "cell_type": "code",
   "execution_count": 16,
   "metadata": {},
   "outputs": [
    {
     "name": "stdout",
     "output_type": "stream",
     "text": [
      "Please Enter a Number : 44\n",
      "even number\n"
     ]
    }
   ],
   "source": [
    "#Q2\n",
    "num=int(input(\"Please Enter a Number : \"));\n",
    "if num == 0:\n",
    "    print(\"Enter a valid number\")\n",
    "elif(num % 2) == 0:\n",
    "        print(\"even number\")\n",
    "else:\n",
    "            print(\"odd number\")"
   ]
  },
  {
   "cell_type": "code",
   "execution_count": 18,
   "metadata": {},
   "outputs": [
    {
     "name": "stdout",
     "output_type": "stream",
     "text": [
      "Total number in list  9\n"
     ]
    }
   ],
   "source": [
    "#Q3\n",
    "list=len([1,2,3,4,5,6,7,8,9])\n",
    "print(\"Total number in list \",list)"
   ]
  },
  {
   "cell_type": "code",
   "execution_count": 19,
   "metadata": {},
   "outputs": [
    {
     "name": "stdout",
     "output_type": "stream",
     "text": [
      "16\n"
     ]
    }
   ],
   "source": [
    "#Q4\n",
    "\n",
    "def sum(numbers):\n",
    "    total = 0\n",
    "    for x in numbers:\n",
    "        total += x\n",
    "    return total\n",
    "print(sum((4, 4, 4, 4)))\n"
   ]
  },
  {
   "cell_type": "code",
   "execution_count": 20,
   "metadata": {},
   "outputs": [
    {
     "name": "stdout",
     "output_type": "stream",
     "text": [
      "Largest number in list is:  40\n"
     ]
    }
   ],
   "source": [
    "#Q5\n",
    "list =[10,20,30,40]\n",
    "print(\"Largest number in list is: \",max(list))"
   ]
  },
  {
   "cell_type": "code",
   "execution_count": 21,
   "metadata": {},
   "outputs": [
    {
     "name": "stdout",
     "output_type": "stream",
     "text": [
      "1\n",
      "1\n",
      "2\n",
      "3\n"
     ]
    }
   ],
   "source": [
    "#Q6\n",
    "a = [1, 1, 2, 3, 5, 8, 13, 21, 34, 55, 89]\n",
    "for i in a:\n",
    "    if i < 5:\n",
    "        print(i)"
   ]
  },
  {
   "cell_type": "code",
   "execution_count": null,
   "metadata": {},
   "outputs": [],
   "source": []
  }
 ],
 "metadata": {
  "kernelspec": {
   "display_name": "Python 3",
   "language": "python",
   "name": "python3"
  },
  "language_info": {
   "codemirror_mode": {
    "name": "ipython",
    "version": 3
   },
   "file_extension": ".py",
   "mimetype": "text/x-python",
   "name": "python",
   "nbconvert_exporter": "python",
   "pygments_lexer": "ipython3",
   "version": "3.7.4"
  }
 },
 "nbformat": 4,
 "nbformat_minor": 2
}
